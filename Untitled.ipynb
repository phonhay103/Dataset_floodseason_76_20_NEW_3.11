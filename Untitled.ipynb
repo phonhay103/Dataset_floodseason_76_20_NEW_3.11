{
 "cells": [
  {
   "cell_type": "code",
   "execution_count": 1,
   "id": "b672bef2-057d-45cc-a9dd-fb1dd9a4bc71",
   "metadata": {},
   "outputs": [],
   "source": [
    "# Model with default parameters\n",
    "# 1: LinearRegression\n",
    "# 2: RandomForestRegressor\n",
    "\n",
    "# Metrics\n",
    "# 1: Mean Squared Error (MSE)\n",
    "# 2: Mean Absolute Error (MAE)\n",
    "# 3: Root Mean Squared Error (RMSE)"
   ]
  },
  {
   "cell_type": "code",
   "execution_count": 2,
   "id": "83d518ec-9810-4bff-92c6-aa5202125436",
   "metadata": {},
   "outputs": [],
   "source": [
    "# from sklearn.metrics import get_scorer_names\n",
    "# get_scorer_names()"
   ]
  },
  {
   "cell_type": "code",
   "execution_count": 3,
   "id": "945ccbbc-8880-4648-9bff-b051ddda9dc1",
   "metadata": {},
   "outputs": [],
   "source": [
    "import numpy as np\n",
    "import pandas as pd\n",
    "import seaborn as sns\n",
    "import matplotlib.pyplot as plt\n",
    "\n",
    "from sklearn.model_selection import train_test_split, cross_val_score\n",
    "from sklearn.linear_model import LinearRegression\n",
    "from sklearn.ensemble import RandomForestRegressor\n",
    "from sklearn.metrics import mean_squared_error, mean_absolute_error\n",
    "\n",
    "def root_mean_squared_error(y_true, y_pred):\n",
    "    return np.sqrt(mean_squared_error(y_true, y_pred))"
   ]
  },
  {
   "cell_type": "code",
   "execution_count": 202,
   "id": "03313ae7-d0bd-4d31-9d83-becef0aae89f",
   "metadata": {},
   "outputs": [],
   "source": [
    "def run(X, y, kfold=None):\n",
    "    LR_model = LinearRegression()\n",
    "    RFR_model = RandomForestRegressor()\n",
    "    \n",
    "    if kfold:\n",
    "        print('Linear Regression')\n",
    "        print(f'MAE {kfold}: {np.mean(-cross_val_score(LR_model, X, y, scoring=\"neg_mean_absolute_error\", cv=kfold)):5f}')\n",
    "        print(f'MSE {kfold}: {np.mean(-cross_val_score(LR_model, X, y, scoring=\"neg_mean_squared_error\", cv=kfold)):5f}')\n",
    "        print(f'RMSE {kfold}: {np.mean(-cross_val_score(LR_model, X, y, scoring=\"neg_root_mean_squared_error\", cv=kfold)):5f}')\n",
    "        print('')\n",
    "        print('Random Forest Regression')\n",
    "        print(f'MAE {kfold}: {np.mean(-cross_val_score(RFR_model, X, y, scoring=\"neg_mean_absolute_error\", cv=kfold)):5f}')\n",
    "        print(f'MSE {kfold}: {np.mean(-cross_val_score(RFR_model, X, y, scoring=\"neg_mean_squared_error\", cv=kfold)):5f}')\n",
    "        print(f'RMSE {kfold}: {np.mean(-cross_val_score(RFR_model, X, y, scoring=\"neg_root_mean_squared_error\", cv=kfold)):5f}')\n",
    "        print('')\n",
    "    else:\n",
    "        X_train, X_test, y_train, y_test = train_test_split(X, y, test_size=0.2, random_state=42)\n",
    "        print('Linear Regression')\n",
    "        LR_model.fit(X_train, y_train)\n",
    "        y_pred = LR_model.predict(X_test)\n",
    "        print(f'MAE: {mean_absolute_error(y_test, y_pred):5f}')\n",
    "        print(f'MSE: {mean_squared_error(y_test, y_pred):5f}')\n",
    "        print(f'RMSE: {root_mean_squared_error(y_test, y_pred):5f}')\n",
    "        print('')\n",
    "        print('Random Forest Regression')\n",
    "        RFR_model.fit(X_train, y_train)\n",
    "        y_pred = RFR_model.predict(X_test)\n",
    "        print(f'MAE: {mean_absolute_error(y_test, y_pred):5f}')\n",
    "        print(f'MSE: {mean_squared_error(y_test, y_pred):5f}')\n",
    "        print(f'RMSE: {root_mean_squared_error(y_test, y_pred):5f}')\n",
    "        print('')"
   ]
  },
  {
   "cell_type": "code",
   "execution_count": 4,
   "id": "b0b570c2-3c56-4530-8744-6952fc6d39e9",
   "metadata": {},
   "outputs": [
    {
     "data": {
      "text/html": [
       "<div>\n",
       "<style scoped>\n",
       "    .dataframe tbody tr th:only-of-type {\n",
       "        vertical-align: middle;\n",
       "    }\n",
       "\n",
       "    .dataframe tbody tr th {\n",
       "        vertical-align: top;\n",
       "    }\n",
       "\n",
       "    .dataframe thead th {\n",
       "        text-align: right;\n",
       "    }\n",
       "</style>\n",
       "<table border=\"1\" class=\"dataframe\">\n",
       "  <thead>\n",
       "    <tr style=\"text-align: right;\">\n",
       "      <th></th>\n",
       "      <th>Year</th>\n",
       "      <th>Month</th>\n",
       "      <th>Day</th>\n",
       "      <th>H_KG</th>\n",
       "      <th>H_LT</th>\n",
       "      <th>H_DH</th>\n",
       "      <th>R_KG</th>\n",
       "      <th>R_LT</th>\n",
       "      <th>R_DH</th>\n",
       "    </tr>\n",
       "  </thead>\n",
       "  <tbody>\n",
       "    <tr>\n",
       "      <th>0</th>\n",
       "      <td>1976</td>\n",
       "      <td>9</td>\n",
       "      <td>1</td>\n",
       "      <td>5.79</td>\n",
       "      <td>-0.10</td>\n",
       "      <td>0.02</td>\n",
       "      <td>0.0</td>\n",
       "      <td>0.0</td>\n",
       "      <td>0.0</td>\n",
       "    </tr>\n",
       "    <tr>\n",
       "      <th>1</th>\n",
       "      <td>1976</td>\n",
       "      <td>9</td>\n",
       "      <td>2</td>\n",
       "      <td>5.75</td>\n",
       "      <td>-0.11</td>\n",
       "      <td>0.00</td>\n",
       "      <td>0.0</td>\n",
       "      <td>0.0</td>\n",
       "      <td>0.0</td>\n",
       "    </tr>\n",
       "    <tr>\n",
       "      <th>2</th>\n",
       "      <td>1976</td>\n",
       "      <td>9</td>\n",
       "      <td>3</td>\n",
       "      <td>5.73</td>\n",
       "      <td>-0.12</td>\n",
       "      <td>0.00</td>\n",
       "      <td>0.0</td>\n",
       "      <td>0.0</td>\n",
       "      <td>0.0</td>\n",
       "    </tr>\n",
       "    <tr>\n",
       "      <th>3</th>\n",
       "      <td>1976</td>\n",
       "      <td>9</td>\n",
       "      <td>4</td>\n",
       "      <td>5.74</td>\n",
       "      <td>-0.14</td>\n",
       "      <td>-0.02</td>\n",
       "      <td>0.0</td>\n",
       "      <td>0.0</td>\n",
       "      <td>0.0</td>\n",
       "    </tr>\n",
       "    <tr>\n",
       "      <th>4</th>\n",
       "      <td>1976</td>\n",
       "      <td>9</td>\n",
       "      <td>5</td>\n",
       "      <td>5.74</td>\n",
       "      <td>-0.14</td>\n",
       "      <td>-0.01</td>\n",
       "      <td>0.0</td>\n",
       "      <td>12.0</td>\n",
       "      <td>0.0</td>\n",
       "    </tr>\n",
       "    <tr>\n",
       "      <th>...</th>\n",
       "      <td>...</td>\n",
       "      <td>...</td>\n",
       "      <td>...</td>\n",
       "      <td>...</td>\n",
       "      <td>...</td>\n",
       "      <td>...</td>\n",
       "      <td>...</td>\n",
       "      <td>...</td>\n",
       "      <td>...</td>\n",
       "    </tr>\n",
       "    <tr>\n",
       "      <th>5485</th>\n",
       "      <td>2020</td>\n",
       "      <td>12</td>\n",
       "      <td>27</td>\n",
       "      <td>6.36</td>\n",
       "      <td>0.32</td>\n",
       "      <td>0.13</td>\n",
       "      <td>0.0</td>\n",
       "      <td>0.0</td>\n",
       "      <td>0.0</td>\n",
       "    </tr>\n",
       "    <tr>\n",
       "      <th>5486</th>\n",
       "      <td>2020</td>\n",
       "      <td>12</td>\n",
       "      <td>28</td>\n",
       "      <td>6.33</td>\n",
       "      <td>0.27</td>\n",
       "      <td>0.03</td>\n",
       "      <td>0.4</td>\n",
       "      <td>0.0</td>\n",
       "      <td>0.1</td>\n",
       "    </tr>\n",
       "    <tr>\n",
       "      <th>5487</th>\n",
       "      <td>2020</td>\n",
       "      <td>12</td>\n",
       "      <td>29</td>\n",
       "      <td>6.30</td>\n",
       "      <td>0.21</td>\n",
       "      <td>0.06</td>\n",
       "      <td>0.0</td>\n",
       "      <td>0.0</td>\n",
       "      <td>0.0</td>\n",
       "    </tr>\n",
       "    <tr>\n",
       "      <th>5488</th>\n",
       "      <td>2020</td>\n",
       "      <td>12</td>\n",
       "      <td>30</td>\n",
       "      <td>6.28</td>\n",
       "      <td>0.14</td>\n",
       "      <td>0.27</td>\n",
       "      <td>7.6</td>\n",
       "      <td>0.4</td>\n",
       "      <td>2.4</td>\n",
       "    </tr>\n",
       "    <tr>\n",
       "      <th>5489</th>\n",
       "      <td>2020</td>\n",
       "      <td>12</td>\n",
       "      <td>31</td>\n",
       "      <td>6.34</td>\n",
       "      <td>0.17</td>\n",
       "      <td>0.40</td>\n",
       "      <td>4.8</td>\n",
       "      <td>0.0</td>\n",
       "      <td>0.1</td>\n",
       "    </tr>\n",
       "  </tbody>\n",
       "</table>\n",
       "<p>5490 rows × 9 columns</p>\n",
       "</div>"
      ],
      "text/plain": [
       "      Year  Month  Day  H_KG  H_LT  H_DH  R_KG  R_LT  R_DH\n",
       "0     1976      9    1  5.79 -0.10  0.02   0.0   0.0   0.0\n",
       "1     1976      9    2  5.75 -0.11  0.00   0.0   0.0   0.0\n",
       "2     1976      9    3  5.73 -0.12  0.00   0.0   0.0   0.0\n",
       "3     1976      9    4  5.74 -0.14 -0.02   0.0   0.0   0.0\n",
       "4     1976      9    5  5.74 -0.14 -0.01   0.0  12.0   0.0\n",
       "...    ...    ...  ...   ...   ...   ...   ...   ...   ...\n",
       "5485  2020     12   27  6.36  0.32  0.13   0.0   0.0   0.0\n",
       "5486  2020     12   28  6.33  0.27  0.03   0.4   0.0   0.1\n",
       "5487  2020     12   29  6.30  0.21  0.06   0.0   0.0   0.0\n",
       "5488  2020     12   30  6.28  0.14  0.27   7.6   0.4   2.4\n",
       "5489  2020     12   31  6.34  0.17  0.40   4.8   0.0   0.1\n",
       "\n",
       "[5490 rows x 9 columns]"
      ]
     },
     "execution_count": 4,
     "metadata": {},
     "output_type": "execute_result"
    }
   ],
   "source": [
    "# Load data\n",
    "columns = ['Year', 'Month', 'Day', 'H_KG', 'H_LT', 'H_DH', 'R_KG', 'R_LT', 'R_DH']\n",
    "df = pd.read_excel('Dataset_floodseason_76_20_NEW_3.11.xlsx', skiprows=range(0, 2), header=None)\n",
    "df.columns = columns\n",
    "df"
   ]
  },
  {
   "cell_type": "code",
   "execution_count": 224,
   "id": "17e6b2d8-b372-4857-9634-ac09b3fb6db7",
   "metadata": {},
   "outputs": [],
   "source": [
    "# Case 1\n",
    "# x: H (t-3, t-2, t-1, t) => 12\n",
    "# y: H (t+1)"
   ]
  },
  {
   "cell_type": "code",
   "execution_count": 238,
   "id": "4ae82055-1ac7-475c-a4ac-f533416119ea",
   "metadata": {},
   "outputs": [],
   "source": [
    "max_len = len(df)-4\n",
    "X = np.empty((max_len, 12))\n",
    "for i in range(max_len):\n",
    "    dx = df.iloc[i:i+4][['R_KG', 'R_LT', 'R_DH']].values\n",
    "    dx = dx.reshape(1, -1)\n",
    "    X[i] = dx\n",
    "\n",
    "y = df.iloc[4:].H_KG.values"
   ]
  },
  {
   "cell_type": "code",
   "execution_count": 239,
   "id": "97f7f9e9-e114-42a0-9a14-f66aa7519566",
   "metadata": {},
   "outputs": [
    {
     "name": "stdout",
     "output_type": "stream",
     "text": [
      "Linear Regression\n",
      "MAE: 0.395710\n",
      "MSE: 0.364533\n",
      "RMSE: 0.603765\n",
      "\n",
      "Random Forest Regression\n",
      "MAE: 0.381218\n",
      "MSE: 0.319073\n",
      "RMSE: 0.564865\n"
     ]
    }
   ],
   "source": [
    "run(X, y)"
   ]
  },
  {
   "cell_type": "code",
   "execution_count": 240,
   "id": "0db5d58b-ec4f-49b2-bc51-3392602ef368",
   "metadata": {},
   "outputs": [],
   "source": [
    "# Case 2\n",
    "# x: H (t-3, t-2, t-1, t) | R (t-3, t-2, t-1, t) => 24\n",
    "# y: H (t+1)"
   ]
  },
  {
   "cell_type": "code",
   "execution_count": 241,
   "id": "9e15a523-3cde-44da-b3d7-664a79776403",
   "metadata": {},
   "outputs": [],
   "source": [
    "max_len = len(df)-4\n",
    "X = np.empty((max_len, 24))\n",
    "for i in range(max_len):\n",
    "    dx = df.iloc[i:i+4][['R_KG', 'R_LT', 'R_DH', 'H_KG', 'H_LT', 'H_DH']].values\n",
    "    dx = dx.reshape(1, -1)\n",
    "    X[i] = dx\n",
    "\n",
    "y = df.iloc[4:].H_KG.values"
   ]
  },
  {
   "cell_type": "code",
   "execution_count": 242,
   "id": "f542f71a-f41b-47ad-8632-e9a95a6831b9",
   "metadata": {},
   "outputs": [
    {
     "name": "stdout",
     "output_type": "stream",
     "text": [
      "Linear Regression\n",
      "MAE: 0.248055\n",
      "MSE: 0.204958\n",
      "RMSE: 0.452723\n",
      "\n",
      "Random Forest Regression\n",
      "MAE: 0.252419\n",
      "MSE: 0.217520\n",
      "RMSE: 0.466390\n"
     ]
    }
   ],
   "source": [
    "run(X, y)"
   ]
  },
  {
   "cell_type": "code",
   "execution_count": 230,
   "id": "2412c485-7928-469a-9b66-e47cb36be0ed",
   "metadata": {},
   "outputs": [],
   "source": [
    "# Case 3\n",
    "# x: H (t-3, t-2, t-1, t) | R (t-3, t-2, t-1, t, t+1) => 27\n",
    "# y: H (t+1)"
   ]
  },
  {
   "cell_type": "code",
   "execution_count": 243,
   "id": "2bc57197-f8e9-4d07-8fc4-5998a579e74a",
   "metadata": {},
   "outputs": [],
   "source": [
    "max_len = len(df)-4\n",
    "X = np.empty((max_len, 27))\n",
    "for i in range(max_len):\n",
    "    dx1 = df.iloc[i:i+4][['R_KG', 'R_LT', 'R_DH', 'H_KG', 'H_LT', 'H_DH']].values\n",
    "    dx1 = dx1.reshape(1, -1)\n",
    "    dx2 = df.iloc[i+4][['R_KG', 'R_LT', 'R_DH']].values\n",
    "    dx2 = dx2.reshape(1, -1)\n",
    "    X[i] = np.hstack((dx1, dx2))\n",
    "\n",
    "y = df.iloc[4:].H_KG.values"
   ]
  },
  {
   "cell_type": "code",
   "execution_count": 244,
   "id": "de9c6c0d-d63a-4f98-bbf3-2f6a94701376",
   "metadata": {},
   "outputs": [
    {
     "name": "stdout",
     "output_type": "stream",
     "text": [
      "Linear Regression\n",
      "MAE: 0.151919\n",
      "MSE: 0.081719\n",
      "RMSE: 0.285866\n",
      "\n",
      "Random Forest Regression\n",
      "MAE: 0.130299\n",
      "MSE: 0.067391\n",
      "RMSE: 0.259598\n"
     ]
    }
   ],
   "source": [
    "run(X, y)"
   ]
  },
  {
   "cell_type": "code",
   "execution_count": null,
   "id": "bfa7ba02-8b6f-41ac-8cc5-6f7c332f7e9d",
   "metadata": {},
   "outputs": [],
   "source": []
  }
 ],
 "metadata": {
  "kernelspec": {
   "display_name": "flood",
   "language": "python",
   "name": "flood"
  },
  "language_info": {
   "codemirror_mode": {
    "name": "ipython",
    "version": 3
   },
   "file_extension": ".py",
   "mimetype": "text/x-python",
   "name": "python",
   "nbconvert_exporter": "python",
   "pygments_lexer": "ipython3",
   "version": "3.9.15"
  },
  "vscode": {
   "interpreter": {
    "hash": "47e85a3503b5bea1baf8bff5233c13fdb261d23681bc678e8b8ff5347187fdea"
   }
  }
 },
 "nbformat": 4,
 "nbformat_minor": 5
}
